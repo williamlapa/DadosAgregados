{
 "cells": [
  {
   "cell_type": "markdown",
   "metadata": {},
   "source": [
    "# Trabalho Final - Ciência de Dados - Enap / 2020\n",
    "\n",
    "# Tratamento das bases\n",
    "\n",
    "## Aluno: William Lapa Santos Filho"
   ]
  },
  {
   "cell_type": "markdown",
   "metadata": {},
   "source": [
    "### Apresentação do Dataset:\n",
    "\n",
    "#### Trata-se de base dados PÚBLICA coletada do portal Grandes Números DIRPF elaborado pelo CETAD (Centro de Estudos Tributários e Aduaneiros) vinculado à Receita Federal do Brasil. Foram extraídas as informações das DIRPFs entregues por município de jurisdição dos contribuintes dos anos-calendários de 2015 a 2018.\n",
    "#### Fonte: https://receita.economia.gov.br/dados/receitadata/estudos-e-tributarios-e-aduaneiros/estudos-e-estatisticas/11-08-2014-grandes-numeros-dirpf/grandes-numeros-dirpf-capa\n",
    "\n",
    "#### Também utilizaremos a base de população, PIB e PIB per Capita por município obtida junto ao IBGE do site https://sidra.ibge.gov.br/"
   ]
  },
  {
   "cell_type": "markdown",
   "metadata": {},
   "source": [
    "### Motivação Pessoal:\n",
    "\n",
    "#### Tratam-se de informações relevantes para análise da evolução de rendimentos e bens declarados para a administração tributária federal, cujo escopo faz parte da minha atividade profissional. "
   ]
  },
  {
   "cell_type": "markdown",
   "metadata": {},
   "source": [
    "## Importando as principais bibliotecas"
   ]
  },
  {
   "cell_type": "code",
   "execution_count": 1,
   "metadata": {},
   "outputs": [],
   "source": [
    "import pandas as pd\n",
    "import numpy as np\n",
    "import matplotlib.pyplot as plt\n",
    "import seaborn as sns\n",
    "%matplotlib inline"
   ]
  },
  {
   "cell_type": "markdown",
   "metadata": {},
   "source": [
    "# Este notebook fará apenas a importação, tratamento e exportação dos arquivos para CSV com o objetivo de utilizar no notebook \"William_Trabalho_Final\" que segue em anexo.\n"
   ]
  },
  {
   "cell_type": "markdown",
   "metadata": {},
   "source": [
    "### Dataset - Importando a base de dados e realizando tratamento iniciais\n"
   ]
  },
  {
   "cell_type": "code",
   "execution_count": null,
   "metadata": {},
   "outputs": [],
   "source": [
    "# Importando a bse de dados da RFB\n",
    "# fonte: https://receita.economia.gov.br/dados/receitadata/estudos-e-tributarios-e-aduaneiros/estudos-e-estatisticas/11-08-2014-grandes-numeros-dirpf\n",
    "# concatenando os arquivos de 2015 a 2018.\n",
    "# As colunas dos arquivos originais estão milhões e por isso os valores serão convertidos.\n",
    "\n",
    "# As bases originais que serão importadas abaixo estão na pasta /DadosOriginais/\n",
    "\n",
    "dataset2015=pd.read_excel('Rendimentos2015.xlsx', skiprows=10, decimal=',')\n",
    "dataset2015.set_axis(['Tipo de Formulário da Declaração', 'Município do Declarante', 'Qtde Declarantes', 'Rendim. Tribut.', 'Rendim. Tribut. Exclus.', \n",
    "                              'Rendim. Isentos', 'Contrib. Previd.', 'Dependentes', 'Instrução', 'Médicas', 'Livro Caixa', 'Pensão Alimen.', 'Desc. Padrão', 'Base de Cálculo (RTL)', 'Imposto Devido', 'Imposto Pago', 'Imposto a Pagar', 'Imposto a Restituir', 'Bens e Direitos', 'Dívidas e Ônus', 'Doações e Heranças']\n",
    "                             , axis=1, inplace=True)\n",
    "dataset2015 = dataset2015.groupby(['Município do Declarante'], as_index=False).sum()\n",
    "dataset2015['ano'] = 2015\n",
    "\n",
    "\n",
    "dataset2016=pd.read_excel('Rendimentos2016.xlsx', skiprows=10, decimal=',')\n",
    "dataset2016.set_axis(['Tipo de Formulário da Declaração', 'Município do Declarante', 'Qtde Declarantes', 'Rendim. Tribut.', 'Rendim. Tribut. Exclus.', \n",
    "                              'Rendim. Isentos', 'Contrib. Previd.', 'Dependentes', 'Instrução', 'Médicas', 'Livro Caixa', 'Pensão Alimen.', 'Desc. Padrão', 'Base de Cálculo (RTL)', 'Imposto Devido', 'Imposto Pago', 'Imposto a Pagar', 'Imposto a Restituir', 'Bens e Direitos', 'Dívidas e Ônus', 'Doações e Heranças']\n",
    "                             , axis=1, inplace=True)\n",
    "dataset2016 = dataset2016.groupby(['Município do Declarante'], as_index=False).sum()\n",
    "dataset2016['ano'] = 2016\n",
    "\n",
    "# no dataset 2017 foram encontrados valores 'x' como NAN e por isso usamos a conversao no argumento do read_excel\n",
    "dataset2017=pd.read_excel('Rendimentos2017.xlsx', skiprows=10, decimal=',', na_values='x')\n",
    "dataset2017.set_axis(['Tipo de Formulário da Declaração', 'Município do Declarante', 'Qtde Declarantes', 'Rendim. Tribut.', 'Rendim. Tribut. Exclus.', \n",
    "                              'Rendim. Isentos', 'Contrib. Previd.', 'Dependentes', 'Instrução', 'Médicas', 'Livro Caixa', 'Pensão Alimen.', 'Desc. Padrão', 'Base de Cálculo (RTL)', 'Imposto Devido', 'Imposto Pago', 'Imposto a Pagar', 'Imposto a Restituir', 'Bens e Direitos', 'Dívidas e Ônus', 'Doações e Heranças']\n",
    "                             , axis=1, inplace=True)\n",
    "dataset2017 = dataset2017.groupby(['Município do Declarante'], as_index=False).sum()\n",
    "dataset2017['ano'] = 2017\n",
    "\n",
    "dataset2018=pd.read_excel('Rendimentos2018.xlsx', skiprows=10, decimal=',')\n",
    "dataset2018.set_axis(['Tipo de Formulário da Declaração', 'Município do Declarante', 'Qtde Declarantes', 'Rendim. Tribut.', 'Rendim. Tribut. Exclus.', \n",
    "                              'Rendim. Isentos', 'Contrib. Previd.', 'Dependentes', 'Instrução', 'Médicas', 'Livro Caixa', 'Pensão Alimen.', 'Desc. Padrão', 'Base de Cálculo (RTL)', 'Imposto Devido', 'Imposto Pago', 'Imposto a Pagar', 'Imposto a Restituir', 'Bens e Direitos', 'Dívidas e Ônus', 'Doações e Heranças']\n",
    "                             , axis=1, inplace=True)\n",
    "dataset2018 = dataset2018.groupby(['Município do Declarante'], as_index=False).sum()\n",
    "dataset2018['ano'] = 2018\n",
    "\n",
    "df = pd.concat([dataset2015,dataset2016,dataset2017, dataset2018])\n",
    "\n",
    "\n",
    "#Extraindo UF e nome do municipio\n",
    "df['Municipio'] = df['Município do Declarante'].apply(lambda x: x.split('-')[0].strip())\n",
    "df['UF'] = df['Município do Declarante'].apply(lambda x: x[-2:].strip())\n",
    "\n",
    "# Normalizando nome dos municipios\n",
    "df['Municipio'] = df['Municipio'].str.normalize('NFKD').str.encode('ascii', errors='ignore').str.decode('utf-8')\n",
    "df['Municipio'] = df['Municipio'].apply(lambda x: x.upper())\n",
    "\n",
    "del df['Município do Declarante']\n",
    "df['ano'] = df['ano'].astype('int64')\n",
    "df['Qtde Declarantes'] = df['Qtde Declarantes'].astype('int64')\n",
    "df['chave'] = df['ano'].astype(str)+df['Municipio']\n",
    "df['Total Rend'] = df['Rendim. Tribut.'] + df['Rendim. Tribut. Exclus.'] + df['Rendim. Isentos']\n"
   ]
  },
  {
   "cell_type": "code",
   "execution_count": 11,
   "metadata": {},
   "outputs": [],
   "source": [
    "instrucao = {'Total Rend por declarante': 'Total Rend','Instrução por declarante': 'Instrução','Médicas por declarante': 'Médicas','Bens e Direitos por declarante': 'Bens e Direitos' }\n",
    "\n",
    "# O objetivo da conversão abaixo é obter os valores de rendimentos, despesas e bens e direitos por declarante.\n",
    "# Essa conversão será relevante para comparar os dados com o Pib per capita.\n",
    "\n",
    "for nome, coluna in instrucao.items():\n",
    "    df[nome] = df[coluna]/df['Qtde Declarantes']*1000000\n",
    "\n",
    "# Conversão da base original que está em múltiplo de R$ milhões\n",
    "df['Total Rend'] = df['Total Rend']*1000000\n",
    "df['Bens e Direitos'] = df['Bens e Direitos']*1000000\n",
    "df['Instrução'] = df['Instrução']*1000000\n",
    "df['Médicas'] = df['Médicas']*1000000\n"
   ]
  },
  {
   "cell_type": "code",
   "execution_count": 16,
   "metadata": {},
   "outputs": [],
   "source": [
    "# Exportando para CSV apenas as colunas que serão utilizadas na análise\n",
    "df.to_csv('dirpf2015_2018.csv', index=False,columns=['Qtde Declarantes', 'Instrução',\n",
    "       'Médicas','Bens e Direitos','ano', 'Municipio', 'UF', 'chave', 'Total Rend', 'Total Rend por declarante',\n",
    "       'Instrução por declarante', 'Médicas por declarante',\n",
    "       'Bens e Direitos por declarante'])"
   ]
  },
  {
   "cell_type": "code",
   "execution_count": 17,
   "metadata": {},
   "outputs": [
    {
     "name": "stdout",
     "output_type": "stream",
     "text": [
      "   UF  Pop UF 2015  Pop UF 2016  Pop UF 2017  Pop UF 2018\n",
      "0  RO    1768204.0    1787279.0    1805788.0    1757589.0\n",
      "1  AC     803513.0     816687.0     829619.0     869265.0\n",
      "2  AM    3938336.0    4001667.0    4063614.0    4080611.0\n",
      "3  RR     505665.0     514229.0     522636.0     576568.0\n",
      "4  PA    8175113.0    8272724.0    8366628.0    8513497.0\n",
      "               Municipio  Pop Mun 2015  Pop Mun 2016  Pop Mun 2017  \\\n",
      "0  ALTA FLORESTA D'OESTE         25578         25506         25437   \n",
      "1              ARIQUEMES        104401        105896        107345   \n",
      "2                 CABIXI          6355          6289          6224   \n",
      "3                 CACOAL         87226         87877         88507   \n",
      "4             CEREJEIRAS         17986         17959         17934   \n",
      "\n",
      "   Pop Mun 2018  \n",
      "0         23167  \n",
      "1        106168  \n",
      "2          5438  \n",
      "3         84813  \n",
      "4         16444  \n"
     ]
    }
   ],
   "source": [
    "# Importando base de população do site IBGE: https://sidra.ibge.gov.br/\n",
    "\n",
    "#UF - População:\n",
    "df_uf=pd.read_excel('pop.xlsx', sheet_name='UF')\n",
    "\n",
    "print(df_uf.head())\n",
    "#Municiípios - População\n",
    "df_mun=pd.read_excel('pop.xlsx', sheet_name='Mun')\n",
    "df_mun['Municipio'] = df_mun['Municipio'].apply(lambda x: x[:-4].strip())\n",
    "\n",
    "# Normalização dos nomes dos municípios para utilização no merge\n",
    "df_mun['Municipio'] = df_mun['Municipio'].str.normalize('NFKD').str.encode('ascii', errors='ignore').str.decode('utf-8')\n",
    "df_mun['Municipio'] = df_mun['Municipio'].apply(lambda x: x.upper())\n",
    "\n",
    "# Exportando para CSV apenas as colunas que serão utilizadas na análise\n",
    "df_mun.to_csv('pop_mun.csv', index=False)\n",
    "df_uf.to_csv('pop_uf.csv', index=False)"
   ]
  },
  {
   "cell_type": "code",
   "execution_count": 18,
   "metadata": {},
   "outputs": [
    {
     "name": "stdout",
     "output_type": "stream",
     "text": [
      "<class 'pandas.core.frame.DataFrame'>\n",
      "RangeIndex: 22280 entries, 0 to 22279\n",
      "Data columns (total 6 columns):\n",
      " #   Column               Non-Null Count  Dtype  \n",
      "---  ------               --------------  -----  \n",
      " 0   Ano                  22280 non-null  int64  \n",
      " 1   UF                   22280 non-null  object \n",
      " 2   Código do Município  22280 non-null  int64  \n",
      " 3   Municipio            22280 non-null  object \n",
      " 4   PIB x 1000           22280 non-null  float64\n",
      " 5   PIB per capita x 1   22280 non-null  float64\n",
      "dtypes: float64(2), int64(2), object(2)\n",
      "memory usage: 1.0+ MB\n"
     ]
    }
   ],
   "source": [
    "pib = pd.read_excel('pib_municipios.xlsx')\n",
    "pib.info()"
   ]
  },
  {
   "cell_type": "code",
   "execution_count": 19,
   "metadata": {},
   "outputs": [],
   "source": [
    "# Importando base de população do site IBGE: https://sidra.ibge.gov.br/\n",
    "\n",
    "#PIB per caspita por município:\n",
    "\n",
    "pib_munic = pib[['Ano','UF', 'Código do Município', 'Municipio', 'PIB x 1000',\n",
    "       'PIB per capita x 1 ']]\n",
    "\n",
    "# Normalização dos nomes dos municípios para utilização no merge\n",
    "pib_munic['Municipio'] = pib_munic['Municipio'].str.normalize('NFKD').str.encode('ascii', errors='ignore').str.decode('utf-8')\n",
    "pib_munic['Municipio'] = pib_munic['Municipio'].apply(lambda x: x.upper())\n",
    "\n",
    "pib_munic['chave'] = pib_munic['Ano'].astype(str)+pib_munic['Municipio']\n",
    "\n",
    "# Exportando para CSV apenas as colunas que serão utilizadas na análise\n",
    "pib_munic.to_csv('pib_munic.csv', index=False)"
   ]
  }
 ],
 "metadata": {
  "kernelspec": {
   "display_name": "Python 3",
   "language": "python",
   "name": "python3"
  },
  "language_info": {
   "codemirror_mode": {
    "name": "ipython",
    "version": 3
   },
   "file_extension": ".py",
   "mimetype": "text/x-python",
   "name": "python",
   "nbconvert_exporter": "python",
   "pygments_lexer": "ipython3",
   "version": "3.8.3"
  }
 },
 "nbformat": 4,
 "nbformat_minor": 2
}
