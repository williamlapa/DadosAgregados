{
 "cells": [
  {
   "cell_type": "markdown",
   "metadata": {},
   "source": [
    "# Trabalho Final - Ciência de Dados - Enap / 2020\n",
    "## Aluno: William Lapa Santos Filho"
   ]
  },
  {
   "cell_type": "markdown",
   "metadata": {},
   "source": [
    "### Apresentação do Dataset:\n",
    "\n",
    "#### Trata-se de base dados PÚBLICA coletada do portal Grandes Números DIRPF hospedado pela Receiat Federal do Brasil com apoio do CETAD. Foram extraídas as informações das DIRPFs entregues por município de jurisdição dos anos-calendários de 2015 a 2018.\n",
    "\n",
    "#### Também utilizaremos a base de população obtida junto ao IBGE ('pop.xlsx')"
   ]
  },
  {
   "cell_type": "markdown",
   "metadata": {},
   "source": [
    "### Motivação Pessoal:\n",
    "\n",
    "#### Trata-se de informações relevantes para análise da evolução renda e bens declarados para a administração tributária federal, cujo escopo faz parte da minha atividade profissional. \n",
    "### Disclosure: todos os dados foram obtidos de bases públicas divulgadas pela RFB no site:\n",
    "#https://receita.economia.gov.br/dados/receitadata/estudos-e-tributarios-e-aduaneiros/estudos-e-estatisticas/11-08-2014-grandes-numeros-dirpf"
   ]
  },
  {
   "cell_type": "markdown",
   "metadata": {},
   "source": [
    "### Investigação:\n",
    "\n",
    "#### Escrever a rota de investigação.\n",
    "\n"
   ]
  },
  {
   "cell_type": "markdown",
   "metadata": {},
   "source": [
    "## Importando as principais bibliotecas"
   ]
  },
  {
   "cell_type": "code",
   "execution_count": 1,
   "metadata": {},
   "outputs": [
    {
     "data": {
      "text/plain": [
       "'pt_BR.UTF-8'"
      ]
     },
     "execution_count": 1,
     "metadata": {},
     "output_type": "execute_result"
    }
   ],
   "source": [
    "import pandas as pd\n",
    "import numpy as np\n",
    "import matplotlib.pyplot as plt\n",
    "import seaborn as sns\n",
    "%matplotlib inline\n",
    "import warnings\n",
    "warnings.filterwarnings('ignore')\n",
    "import glob\n",
    "from time import strptime\n",
    "import datetime\n",
    "import locale\n",
    "import re\n",
    "locale.getlocale()\n",
    "locale.setlocale(locale.LC_ALL, 'pt_BR.UTF-8') # \"Fev/2020\" => 02/2020"
   ]
  },
  {
   "cell_type": "markdown",
   "metadata": {},
   "source": [
    "# Análise Informações DIRPF Agregadas\n"
   ]
  },
  {
   "cell_type": "markdown",
   "metadata": {},
   "source": [
    "### Dataset - Importando a base de dados e realizando tratamento iniciais\n"
   ]
  },
  {
   "cell_type": "code",
   "execution_count": 11,
   "metadata": {},
   "outputs": [
    {
     "name": "stdout",
     "output_type": "stream",
     "text": [
      "<class 'pandas.core.frame.DataFrame'>\n",
      "Int64Index: 44576 entries, 0 to 11143\n",
      "Data columns (total 22 columns):\n",
      " #   Column                            Non-Null Count  Dtype  \n",
      "---  ------                            --------------  -----  \n",
      " 0   Tipo de Formulário da Declaração  44576 non-null  object \n",
      " 1   Qtde Declarantes                  44576 non-null  int64  \n",
      " 2   Rendim. Tribut.                   44576 non-null  float64\n",
      " 3   Rendim. Tribut. Exclus.           44576 non-null  float64\n",
      " 4   Rendim. Isentos                   44576 non-null  float64\n",
      " 5   Contrib. Previd.                  44576 non-null  float64\n",
      " 6   Dependentes                       44576 non-null  float64\n",
      " 7   Instrução                         44576 non-null  float64\n",
      " 8   Médicas                           44576 non-null  float64\n",
      " 9   Livro Caixa                       44576 non-null  float64\n",
      " 10  Pensão Alimen.                    44576 non-null  float64\n",
      " 11  Desc. Padrão                      44576 non-null  float64\n",
      " 12  Base de Cálculo (RTL)             44576 non-null  float64\n",
      " 13  Imposto Devido                    44576 non-null  float64\n",
      " 14  Imposto Pago                      44576 non-null  float64\n",
      " 15  Imposto a Pagar                   44576 non-null  float64\n",
      " 16  Imposto a Restituir               44576 non-null  float64\n",
      " 17  Bens e Direitos                   44576 non-null  float64\n",
      " 18  Dívidas e Ônus                    44576 non-null  float64\n",
      " 19  Doações e Heranças                44576 non-null  float64\n",
      " 20  Municipio                         44576 non-null  object \n",
      " 21  UF                                44576 non-null  object \n",
      "dtypes: float64(18), int64(1), object(3)\n",
      "memory usage: 7.8+ MB\n"
     ]
    }
   ],
   "source": [
    "# Importando a bse de dados da RFB\n",
    "# fonte: https://receita.economia.gov.br/dados/receitadata/estudos-e-tributarios-e-aduaneiros/estudos-e-estatisticas/11-08-2014-grandes-numeros-dirpf\n",
    "# concatenando os arquivos de 2015 a 2018.\n",
    "\n",
    "dataset2015=pd.read_excel('Rendimentos2015.xlsx', skiprows=10, decimal=',')\n",
    "dataset2015.set_axis(['Tipo de Formulário da Declaração', 'Município do Declarante', 'Qtde Declarantes', 'Rendim. Tribut.', 'Rendim. Tribut. Exclus.', \n",
    "                              'Rendim. Isentos', 'Contrib. Previd.', 'Dependentes', 'Instrução', 'Médicas', 'Livro Caixa', 'Pensão Alimen.', 'Desc. Padrão', 'Base de Cálculo (RTL)', 'Imposto Devido', 'Imposto Pago', 'Imposto a Pagar', 'Imposto a Restituir', 'Bens e Direitos', 'Dívidas e Ônus', 'Doações e Heranças']\n",
    "                             , axis=1, inplace=True)\n",
    "dataset2016=pd.read_excel('Rendimentos2015.xlsx', skiprows=10, decimal=',')\n",
    "dataset2016.set_axis(['Tipo de Formulário da Declaração', 'Município do Declarante', 'Qtde Declarantes', 'Rendim. Tribut.', 'Rendim. Tribut. Exclus.', \n",
    "                              'Rendim. Isentos', 'Contrib. Previd.', 'Dependentes', 'Instrução', 'Médicas', 'Livro Caixa', 'Pensão Alimen.', 'Desc. Padrão', 'Base de Cálculo (RTL)', 'Imposto Devido', 'Imposto Pago', 'Imposto a Pagar', 'Imposto a Restituir', 'Bens e Direitos', 'Dívidas e Ônus', 'Doações e Heranças']\n",
    "                             , axis=1, inplace=True)\n",
    "dataset2017=pd.read_excel('Rendimentos2015.xlsx', skiprows=10, decimal=',')\n",
    "dataset2017.set_axis(['Tipo de Formulário da Declaração', 'Município do Declarante', 'Qtde Declarantes', 'Rendim. Tribut.', 'Rendim. Tribut. Exclus.', \n",
    "                              'Rendim. Isentos', 'Contrib. Previd.', 'Dependentes', 'Instrução', 'Médicas', 'Livro Caixa', 'Pensão Alimen.', 'Desc. Padrão', 'Base de Cálculo (RTL)', 'Imposto Devido', 'Imposto Pago', 'Imposto a Pagar', 'Imposto a Restituir', 'Bens e Direitos', 'Dívidas e Ônus', 'Doações e Heranças']\n",
    "                             , axis=1, inplace=True)\n",
    "dataset2018=pd.read_excel('Rendimentos2015.xlsx', skiprows=10, decimal=',')\n",
    "dataset2018.set_axis(['Tipo de Formulário da Declaração', 'Município do Declarante', 'Qtde Declarantes', 'Rendim. Tribut.', 'Rendim. Tribut. Exclus.', \n",
    "                              'Rendim. Isentos', 'Contrib. Previd.', 'Dependentes', 'Instrução', 'Médicas', 'Livro Caixa', 'Pensão Alimen.', 'Desc. Padrão', 'Base de Cálculo (RTL)', 'Imposto Devido', 'Imposto Pago', 'Imposto a Pagar', 'Imposto a Restituir', 'Bens e Direitos', 'Dívidas e Ônus', 'Doações e Heranças']\n",
    "                             , axis=1, inplace=True)\n",
    "\n",
    "df = pd.concat([dataset2015,dataset2016,dataset2017, dataset2018])\n",
    "\n",
    "df['Municipio'] = df['Município do Declarante'].apply(lambda x: x.split('-')[0].strip())\n",
    "df['UF'] = df['Município do Declarante'].apply(lambda x: x[-2:].strip())\n",
    "del df['Município do Declarante'] \n",
    "df = df.applymap(lambda x: x if type(x)==str else x*1000)\n",
    "df['Qtde Declarantes'] = df['Qtde Declarantes']/1000\n",
    "df['Qtde Declarantes'] = df['Qtde Declarantes'].astype('int64')\n",
    "df.info()"
   ]
  },
  {
   "cell_type": "code",
   "execution_count": 12,
   "metadata": {},
   "outputs": [
    {
     "data": {
      "text/html": [
       "<div>\n",
       "<style scoped>\n",
       "    .dataframe tbody tr th:only-of-type {\n",
       "        vertical-align: middle;\n",
       "    }\n",
       "\n",
       "    .dataframe tbody tr th {\n",
       "        vertical-align: top;\n",
       "    }\n",
       "\n",
       "    .dataframe thead th {\n",
       "        text-align: right;\n",
       "    }\n",
       "</style>\n",
       "<table border=\"1\" class=\"dataframe\">\n",
       "  <thead>\n",
       "    <tr style=\"text-align: right;\">\n",
       "      <th></th>\n",
       "      <th>Tipo de Formulário da Declaração</th>\n",
       "      <th>Qtde Declarantes</th>\n",
       "      <th>Rendim. Tribut.</th>\n",
       "      <th>Rendim. Tribut. Exclus.</th>\n",
       "      <th>Rendim. Isentos</th>\n",
       "      <th>Contrib. Previd.</th>\n",
       "      <th>Dependentes</th>\n",
       "      <th>Instrução</th>\n",
       "      <th>Médicas</th>\n",
       "      <th>Livro Caixa</th>\n",
       "      <th>...</th>\n",
       "      <th>Base de Cálculo (RTL)</th>\n",
       "      <th>Imposto Devido</th>\n",
       "      <th>Imposto Pago</th>\n",
       "      <th>Imposto a Pagar</th>\n",
       "      <th>Imposto a Restituir</th>\n",
       "      <th>Bens e Direitos</th>\n",
       "      <th>Dívidas e Ônus</th>\n",
       "      <th>Doações e Heranças</th>\n",
       "      <th>Municipio</th>\n",
       "      <th>UF</th>\n",
       "    </tr>\n",
       "  </thead>\n",
       "  <tbody>\n",
       "    <tr>\n",
       "      <th>0</th>\n",
       "      <td>Modelo completo</td>\n",
       "      <td>320</td>\n",
       "      <td>16055.48842</td>\n",
       "      <td>1179.04110</td>\n",
       "      <td>4597.64820</td>\n",
       "      <td>1422.72411</td>\n",
       "      <td>1180.76652</td>\n",
       "      <td>544.08786</td>\n",
       "      <td>1332.36316</td>\n",
       "      <td>69.02300</td>\n",
       "      <td>...</td>\n",
       "      <td>11165.59281</td>\n",
       "      <td>911.45039</td>\n",
       "      <td>1055.06200</td>\n",
       "      <td>133.30137</td>\n",
       "      <td>276.91298</td>\n",
       "      <td>36203.18643</td>\n",
       "      <td>2155.70990</td>\n",
       "      <td>1950.12058</td>\n",
       "      <td>Abadia de Goiás</td>\n",
       "      <td>GO</td>\n",
       "    </tr>\n",
       "    <tr>\n",
       "      <th>1</th>\n",
       "      <td>Modelo completo</td>\n",
       "      <td>106</td>\n",
       "      <td>3966.25187</td>\n",
       "      <td>311.51761</td>\n",
       "      <td>1121.92001</td>\n",
       "      <td>335.47084</td>\n",
       "      <td>266.18436</td>\n",
       "      <td>108.17327</td>\n",
       "      <td>258.48435</td>\n",
       "      <td>0.00000</td>\n",
       "      <td>...</td>\n",
       "      <td>2891.38357</td>\n",
       "      <td>161.25472</td>\n",
       "      <td>175.28718</td>\n",
       "      <td>29.86949</td>\n",
       "      <td>43.90195</td>\n",
       "      <td>12625.44058</td>\n",
       "      <td>2680.75492</td>\n",
       "      <td>482.96832</td>\n",
       "      <td>Abadia dos Dourados</td>\n",
       "      <td>MG</td>\n",
       "    </tr>\n",
       "    <tr>\n",
       "      <th>2</th>\n",
       "      <td>Modelo completo</td>\n",
       "      <td>372</td>\n",
       "      <td>19827.54747</td>\n",
       "      <td>1510.44788</td>\n",
       "      <td>3585.81561</td>\n",
       "      <td>1768.08320</td>\n",
       "      <td>1308.17100</td>\n",
       "      <td>776.15739</td>\n",
       "      <td>1313.36098</td>\n",
       "      <td>646.08412</td>\n",
       "      <td>...</td>\n",
       "      <td>13728.37726</td>\n",
       "      <td>1460.48201</td>\n",
       "      <td>1853.56650</td>\n",
       "      <td>64.19148</td>\n",
       "      <td>457.27597</td>\n",
       "      <td>44002.45448</td>\n",
       "      <td>2616.49235</td>\n",
       "      <td>24.91794</td>\n",
       "      <td>Abadiânia</td>\n",
       "      <td>GO</td>\n",
       "    </tr>\n",
       "    <tr>\n",
       "      <th>3</th>\n",
       "      <td>Modelo completo</td>\n",
       "      <td>683</td>\n",
       "      <td>44543.93571</td>\n",
       "      <td>8594.99787</td>\n",
       "      <td>29387.54060</td>\n",
       "      <td>3859.45212</td>\n",
       "      <td>1915.61736</td>\n",
       "      <td>883.00450</td>\n",
       "      <td>3011.04126</td>\n",
       "      <td>617.82679</td>\n",
       "      <td>...</td>\n",
       "      <td>33409.11744</td>\n",
       "      <td>4750.17359</td>\n",
       "      <td>4672.24155</td>\n",
       "      <td>564.41363</td>\n",
       "      <td>486.48159</td>\n",
       "      <td>179055.53068</td>\n",
       "      <td>14043.52083</td>\n",
       "      <td>2729.16384</td>\n",
       "      <td>Abaeté</td>\n",
       "      <td>MG</td>\n",
       "    </tr>\n",
       "    <tr>\n",
       "      <th>4</th>\n",
       "      <td>Modelo completo</td>\n",
       "      <td>4261</td>\n",
       "      <td>238595.51069</td>\n",
       "      <td>20849.16924</td>\n",
       "      <td>27110.00740</td>\n",
       "      <td>22049.47198</td>\n",
       "      <td>19219.87584</td>\n",
       "      <td>14736.74317</td>\n",
       "      <td>22390.49154</td>\n",
       "      <td>713.84332</td>\n",
       "      <td>...</td>\n",
       "      <td>157603.53383</td>\n",
       "      <td>12738.99215</td>\n",
       "      <td>16847.64281</td>\n",
       "      <td>1236.57654</td>\n",
       "      <td>5345.22720</td>\n",
       "      <td>138205.73669</td>\n",
       "      <td>12285.59705</td>\n",
       "      <td>175.00000</td>\n",
       "      <td>Abaetetuba</td>\n",
       "      <td>PA</td>\n",
       "    </tr>\n",
       "  </tbody>\n",
       "</table>\n",
       "<p>5 rows × 22 columns</p>\n",
       "</div>"
      ],
      "text/plain": [
       "  Tipo de Formulário da Declaração  Qtde Declarantes  Rendim. Tribut.  \\\n",
       "0                  Modelo completo               320      16055.48842   \n",
       "1                  Modelo completo               106       3966.25187   \n",
       "2                  Modelo completo               372      19827.54747   \n",
       "3                  Modelo completo               683      44543.93571   \n",
       "4                  Modelo completo              4261     238595.51069   \n",
       "\n",
       "   Rendim. Tribut. Exclus.  Rendim. Isentos  Contrib. Previd.  Dependentes  \\\n",
       "0               1179.04110       4597.64820        1422.72411   1180.76652   \n",
       "1                311.51761       1121.92001         335.47084    266.18436   \n",
       "2               1510.44788       3585.81561        1768.08320   1308.17100   \n",
       "3               8594.99787      29387.54060        3859.45212   1915.61736   \n",
       "4              20849.16924      27110.00740       22049.47198  19219.87584   \n",
       "\n",
       "     Instrução      Médicas  Livro Caixa  ...  Base de Cálculo (RTL)  \\\n",
       "0    544.08786   1332.36316     69.02300  ...            11165.59281   \n",
       "1    108.17327    258.48435      0.00000  ...             2891.38357   \n",
       "2    776.15739   1313.36098    646.08412  ...            13728.37726   \n",
       "3    883.00450   3011.04126    617.82679  ...            33409.11744   \n",
       "4  14736.74317  22390.49154    713.84332  ...           157603.53383   \n",
       "\n",
       "   Imposto Devido  Imposto Pago  Imposto a Pagar  Imposto a Restituir  \\\n",
       "0       911.45039    1055.06200        133.30137            276.91298   \n",
       "1       161.25472     175.28718         29.86949             43.90195   \n",
       "2      1460.48201    1853.56650         64.19148            457.27597   \n",
       "3      4750.17359    4672.24155        564.41363            486.48159   \n",
       "4     12738.99215   16847.64281       1236.57654           5345.22720   \n",
       "\n",
       "   Bens e Direitos  Dívidas e Ônus  Doações e Heranças            Municipio  \\\n",
       "0      36203.18643      2155.70990          1950.12058      Abadia de Goiás   \n",
       "1      12625.44058      2680.75492           482.96832  Abadia dos Dourados   \n",
       "2      44002.45448      2616.49235            24.91794            Abadiânia   \n",
       "3     179055.53068     14043.52083          2729.16384               Abaeté   \n",
       "4     138205.73669     12285.59705           175.00000           Abaetetuba   \n",
       "\n",
       "   UF  \n",
       "0  GO  \n",
       "1  MG  \n",
       "2  GO  \n",
       "3  MG  \n",
       "4  PA  \n",
       "\n",
       "[5 rows x 22 columns]"
      ]
     },
     "execution_count": 12,
     "metadata": {},
     "output_type": "execute_result"
    }
   ],
   "source": [
    "df.head()"
   ]
  },
  {
   "cell_type": "code",
   "execution_count": 2,
   "metadata": {},
   "outputs": [
    {
     "ename": "NameError",
     "evalue": "name 'result' is not defined",
     "output_type": "error",
     "traceback": [
      "\u001b[1;31m---------------------------------------------------------------------------\u001b[0m",
      "\u001b[1;31mNameError\u001b[0m                                 Traceback (most recent call last)",
      "\u001b[1;32m<ipython-input-2-ac7e6a6be039>\u001b[0m in \u001b[0;36m<module>\u001b[1;34m\u001b[0m\n\u001b[0;32m     28\u001b[0m \u001b[0mimportar\u001b[0m\u001b[1;33m(\u001b[0m\u001b[0mfiles_path\u001b[0m\u001b[1;33m)\u001b[0m\u001b[1;33m\u001b[0m\u001b[1;33m\u001b[0m\u001b[0m\n\u001b[0;32m     29\u001b[0m \u001b[1;33m\u001b[0m\u001b[0m\n\u001b[1;32m---> 30\u001b[1;33m \u001b[0mdf_decl\u001b[0m \u001b[1;33m=\u001b[0m \u001b[0mresult\u001b[0m\u001b[1;33m\u001b[0m\u001b[1;33m\u001b[0m\u001b[0m\n\u001b[0m\u001b[0;32m     31\u001b[0m \u001b[0mdf_decl\u001b[0m\u001b[1;33m.\u001b[0m\u001b[0mhead\u001b[0m\u001b[1;33m(\u001b[0m\u001b[1;33m)\u001b[0m\u001b[1;33m\u001b[0m\u001b[1;33m\u001b[0m\u001b[0m\n",
      "\u001b[1;31mNameError\u001b[0m: name 'result' is not defined"
     ]
    }
   ],
   "source": [
    "# Importando a bse de dados da RGB\n",
    "#fonte: https://receita.economia.gov.br/dados/receitadata/estudos-e-tributarios-e-aduaneiros/estudos-e-estatisticas/11-08-2014-grandes-numeros-dirpf\n",
    "#concatenando os arquivos de 2015 a 2018.\n",
    "\n",
    "files_path=\"C:/Users/willi/OneDrive/Documentos/Modulo 2 Ciência de Dados/William_Projeto_Final\"\n",
    "\n",
    "def importar(files_path):\n",
    "    #global result\n",
    "    \"\"\"Retorne um dataframe com a concatenação vertical dos dados dos arquivos do diretorio dir_path\n",
    "    \"\"\"   \n",
    "    pieces = []\n",
    "    result = None\n",
    "    pattern = f\"{files_path}/**/R*.xlsx\"\n",
    "    for file in glob.glob(pattern, recursive=True):\n",
    "            dataset=pd.read_excel(file, skiprows=10, decimal=',')\n",
    "            dataset.set_axis(['Tipo de Formulário da Declaração', 'Município do Declarante', 'Qtde Declarantes', 'Rendim. Tribut.', 'Rendim. Tribut. Exclus.', \n",
    "                              'Rendim. Isentos', 'Contrib. Previd.', 'Dependentes', 'Instrução', 'Médicas', 'Livro Caixa', 'Pensão Alimen.', 'Desc. Padrão', 'Base de Cálculo (RTL)', 'Imposto Devido', 'Imposto Pago', 'Imposto a Pagar', 'Imposto a Restituir', 'Bens e Direitos', 'Dívidas e Ônus', 'Doações e Heranças']\n",
    "                             , axis=1, inplace=True)\n",
    "            dataset = dataset.applymap(lambda x: x if type(x)==str else x*1000)\n",
    "            dataset['ano'] = pd.to_numeric(file.split('.')[0][-4:])        \n",
    "            pieces.append(dataset)\n",
    "    # Concatena tudo num único DataFrame\n",
    "    result = pd.concat(pieces, ignore_index=True)\n",
    "    result['Municipio'] = result['Município do Declarante'].apply(lambda x: x.split('-')[0].strip())\n",
    "    result['UF'] = result['Município do Declarante'].apply(lambda x: x[-2:].strip())\n",
    "    del result['Município do Declarante']    \n",
    "\n",
    "importar(files_path)\n",
    "\n",
    "df_decl = result\n",
    "df_decl.head()"
   ]
  },
  {
   "cell_type": "code",
   "execution_count": null,
   "metadata": {},
   "outputs": [],
   "source": [
    "df_decl.info()\n",
    "\n",
    "#df_decl.to_exel('dirpf2015_2018.xlsx')"
   ]
  },
  {
   "cell_type": "code",
   "execution_count": null,
   "metadata": {},
   "outputs": [],
   "source": [
    "# Importando base de população do site IBGE: https://sidra.ibge.gov.br/\n",
    "\n",
    "#UF - População:\n",
    "df_uf=pd.read_excel('pop.xlsx', sheet_name='UF')\n",
    "print(df_uf.head())\n",
    "#Municiípios - População\n",
    "df_mun=pd.read_excel('pop.xlsx', sheet_name='Mun')\n",
    "df_mun['Municipio'] = df_mun['Municipio'].apply(lambda x: x[:-4].strip())\n",
    "print(df_mun.head())\n",
    "\n",
    "df_mun.to_exel('pop_mun.xlsx')\n",
    "df_uf.to_exel('pop_mun.xlsx')"
   ]
  },
  {
   "cell_type": "code",
   "execution_count": null,
   "metadata": {},
   "outputs": [],
   "source": []
  },
  {
   "cell_type": "markdown",
   "metadata": {},
   "source": [
    "## Análise exploratória dos dados"
   ]
  },
  {
   "cell_type": "code",
   "execution_count": null,
   "metadata": {},
   "outputs": [],
   "source": [
    "dataset = df_decl"
   ]
  },
  {
   "cell_type": "code",
   "execution_count": null,
   "metadata": {},
   "outputs": [],
   "source": [
    "fig, ax1 = plt.subplots(1, 1, figsize=(15, 6))\n",
    "sns.set(style=\"darkgrid\")\n",
    "ax1 = sns.boxplot(x=\"UF\", data=dataset, y=)"
   ]
  },
  {
   "cell_type": "code",
   "execution_count": null,
   "metadata": {},
   "outputs": [],
   "source": [
    "fig, ax1 = plt.subplots(1, 1, figsize=(15, 4))\n",
    "sns.set(style=\"dark\")\n",
    "ax1 = sns.countplot(y=\"Resultado\", data=dataset)"
   ]
  },
  {
   "cell_type": "code",
   "execution_count": null,
   "metadata": {},
   "outputs": [],
   "source": [
    "fig, ax1 = plt.subplots(1, 1, figsize=(15, 4))\n",
    "sns.set(style=\"darkgrid\")\n",
    "ax1 = sns.countplot(y=\"Status\", data=dataset)"
   ]
  },
  {
   "cell_type": "code",
   "execution_count": null,
   "metadata": {},
   "outputs": [],
   "source": [
    "fig, ax1 = plt.subplots(1, 1, figsize=(15, 4))\n",
    "sns.set(style=\"darkgrid\")\n",
    "ax1 = sns.countplot(y=\"Tipo de Representação Legal\", data=dataset)"
   ]
  },
  {
   "cell_type": "code",
   "execution_count": null,
   "metadata": {},
   "outputs": [],
   "source": [
    "fig, ax1 = plt.subplots(1, 1, figsize=(15, 4))\n",
    "sns.set(style=\"whitegrid\")\n",
    "ax1 = sns.countplot(y=\"Motivo Alteracao Malha\", data=dataset)"
   ]
  },
  {
   "cell_type": "code",
   "execution_count": null,
   "metadata": {},
   "outputs": [],
   "source": [
    "fig, ax1 = plt.subplots(1, 1, figsize=(15, 4))\n",
    "sns.set(style=\"darkgrid\")\n",
    "ax1 = sns.countplot(y=\"Tipo Deficiência Laudo\", data=dataset)"
   ]
  },
  {
   "cell_type": "code",
   "execution_count": null,
   "metadata": {},
   "outputs": [],
   "source": [
    "fig, ax1 = plt.subplots(1, 1, figsize=(15, 4))\n",
    "sns.set(style=\"darkgrid\")\n",
    "ax1 = sns.countplot(y=\"Tipo Serviço Medico Laudo\", data=dataset)"
   ]
  },
  {
   "cell_type": "code",
   "execution_count": null,
   "metadata": {},
   "outputs": [],
   "source": [
    "# AQUI TEM QUE CORRIGIR A SUJEIRA NO CARATER DA DEFICIÊNCIA\n",
    "\n",
    "fig, ax1 = plt.subplots(1, 1, figsize=(15, 4))\n",
    "sns.set(style=\"whitegrid\")\n",
    "ax1 = sns.countplot(y=\"Caráter Deficiência\", data=dataset)"
   ]
  },
  {
   "cell_type": "code",
   "execution_count": null,
   "metadata": {},
   "outputs": [],
   "source": [
    "fig, ax1 = plt.subplots(1, 1, figsize=(15, 4))\n",
    "sns.set(style=\"whitegrid\")\n",
    "ax1 = sns.countplot(y=\"Compara_Mun\", data=dataset)"
   ]
  }
 ],
 "metadata": {
  "kernelspec": {
   "display_name": "Python 3",
   "language": "python",
   "name": "python3"
  },
  "language_info": {
   "codemirror_mode": {
    "name": "ipython",
    "version": 3
   },
   "file_extension": ".py",
   "mimetype": "text/x-python",
   "name": "python",
   "nbconvert_exporter": "python",
   "pygments_lexer": "ipython3",
   "version": "3.8.3"
  }
 },
 "nbformat": 4,
 "nbformat_minor": 2
}
